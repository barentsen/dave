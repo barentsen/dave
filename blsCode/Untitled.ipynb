{
 "cells": [
  {
   "cell_type": "code",
   "execution_count": 7,
   "metadata": {
    "collapsed": false
   },
   "outputs": [],
   "source": [
    "from __future__ import division, print_function\n",
    "import numpy as np\n",
    "import matplotlib.pyplot as plt\n",
    "\n",
    "%matplotlib inline"
   ]
  },
  {
   "cell_type": "code",
   "execution_count": 2,
   "metadata": {
    "collapsed": true
   },
   "outputs": [],
   "source": [
    "from __future__ import division, print_function\n",
    "import numpy as np\n",
    "import yash_bls "
   ]
  },
  {
   "cell_type": "code",
   "execution_count": 3,
   "metadata": {
    "collapsed": true
   },
   "outputs": [],
   "source": [
    "def doSearch(time, flux, minPeriod, maxPeriod, ):\n",
    "\n",
    "    SNR, period, epoch, duration, depth, transitModel, period_guesses, \\\n",
    "            convolved_bls = yash_bls.do_bls_and_fit(time, flux, minPeriod, maxPeriod)\n",
    "\n",
    "    phase, phasedFlux = yash_bls.getPhase(time, flux, period, epoch)\n",
    "    phaseModel, phasedFluxModel = yash_bls.getPhase(time, transitModel, period, epoch)\n",
    "\n",
    "    secTime, secSNR, secPer, secEpoch, secDur, secModel = yash_bls.findSecondary(time, flux, period, epoch, duration)\n",
    "    if secSNR > 5 and abs(period - secPer) < 0.05:\n",
    "        secPhase, secPhaseModel = yash_bls.getPhase(secTime, secModel, secPer, epoch)\n",
    "        idx = len(secPhase[secPhase < 0])\n",
    "    else:\n",
    "        secPhase, secPhaseModel, idx = [], [], 1\n",
    "\n",
    "\n",
    "    # Odd/Even plot \n",
    "    fitT_odd, fitT_even = yash_bls.computeOddEvenModels(time, flux, period, epoch)\n",
    "    phaseModel_odd, phasedFluxModel_odd = yash_bls.getPhase(time, fitT_odd.transitmodel, period * 2, epoch)\n",
    "    phaseModel_even, phasedFluxModel_even = yash_bls.getPhase(time, fitT_even.transitmodel, period * 2, epoch + period)\n",
    "    depthOdd = fitT_odd.fitresultplanets['pnum0']['rprs'] ** 2\n",
    "    depthEven = fitT_even.fitresultplanets['pnum0']['rprs'] ** 2\n",
    "    phaseOdd, fluxOdd = yash_bls.getPhase(time, flux, period * 2, epoch)\n",
    "    phaseEven, fluxEven = yash_bls.getPhase(time, flux, period * 2, epoch + period)\n",
    "    x1, x2 = -duration, duration\n",
    "    y1, y2 = -3*np.std(fluxOdd), 3*np.std(fluxOdd)\n",
    "    if min(fluxOdd) < y1:\n",
    "        y1 = min(fluxOdd) - np.std(fluxOdd)\n",
    "    # sigma = abs(depth1 - depth2) / sqrt(u1^2 + u2^2)\n",
    "    durOdd = yash_bls.computeTransitDuration(period, fitT_odd.fitresultstellar['rho'], fitT_odd.fitresultplanets['pnum0']['rprs'])\n",
    "    durEven = yash_bls.computeTransitDuration(period, fitT_odd.fitresultstellar['rho'], fitT_even.fitresultplanets['pnum0']['rprs'])\n",
    "    sigma = yash_bls.computePointSigma(time, flux, transitModel, period, epoch, duration)\n",
    "    nOddPoints = np.sum((-durOdd*0.5 < phaseOdd) & (phaseOdd < durOdd * 0.5))\n",
    "    nEvenPoints = np.sum((-durEven*0.5 < phaseEven) & (phaseEven < durEven * 0.5))\n",
    "    uOdd, uEven = sigma / np.sqrt(nOddPoints), sigma / np.sqrt(nEvenPoints)\n",
    "    depthDiffSigma = abs(depthOdd - depthEven) / np.sqrt(uOdd**2 + uEven**2)\n",
    "\n",
    "    return locals\n",
    "\n",
    "\n",
    "def plotSearch():\n",
    "    gs = gridspec.GridSpec(3,2)\n",
    "    ax1 = plt.subplot(gs[0,:])\n",
    "    axOdd = plt.subplot(gs[1,0])\n",
    "    axEven = plt.subplot(gs[1,1])\n",
    "    ax3 = plt.subplot(gs[2,:])\n",
    "    gs.update(wspace = 0, hspace = 0.5)\n",
    "    ax1.plot(time, flux, 'k')\n",
    "    y1, y2 = ax1.get_ylim()\n",
    "    ax1.vlines(np.arange(epoch, time[-1], period), y1, y2, \n",
    "               color = 'r', linestyles = 'dashed', linewidth = 0.5)\n",
    "    ax1.axis([time[0], time[-1], y1, y2])\n",
    "    ax1.set_title('kplr%s;    best period = %8.6g days;    SNR = %8.6g' %(name, period, SNR))\n",
    "    ax1.set_xlabel('days')\n",
    "    axOdd.set_ylabel('flux')\n",
    "    axOdd.scatter(phaseOdd, fluxOdd, marker = '.', s = 1, color = 'k', alpha = 1)\n",
    "    axOdd.plot(phaseModel_odd, phasedFluxModel_odd, 'r')\n",
    "    axOdd.axhline(-depthOdd, x1, x2)\n",
    "    axOdd.axis([x1,x2,y1,y2])\n",
    "    axOdd.set_title('odd')\n",
    "    axEven.scatter(phaseEven, fluxEven, marker = '.', s = 1, color = 'k', alpha = 1)\n",
    "    axEven.plot(phaseModel_even, phasedFluxModel_even, 'r')\n",
    "    axEven.axhline(-depthEven, x1, x2)\n",
    "    axEven.yaxis.tick_right()\n",
    "    axEven.axis([x1,x2,y1,y2])\n",
    "    axEven.set_title('even')\n",
    "    if secondary:\n",
    "        plt.plot(secPhase[:idx], secPhaseModel[:idx], 'c')\n",
    "        plt.plot(secPhase[idx:], secPhaseModel[idx:], 'c')\n",
    "    ax3.scatter(phase, phasedFlux, marker = '.', s = 1, color = 'k')\n",
    "    ax3.plot(phaseModel, phasedFluxModel, 'r')\n",
    "    y1, y2 = -3*np.std(phasedFlux), 3*np.std(phasedFlux)\n",
    "    if min(phasedFlux) < y1:\n",
    "        y1 = min(phasedFlux) - np.std(phasedFlux)\n",
    "    ax3.axis([phase[0], phase[-1], y1, y2])\n",
    "    ax3.set_xlabel('phase [hours]')\n",
    "    ax3.text(0.5, 1.25, 'depth diff sigma = %.3f' %depthDiffSigma, horizontalalignment = 'center',\n",
    "        verticalalignment = 'center', transform = ax3.transAxes)\n",
    "\n",
    "\n"
   ]
  },
  {
   "cell_type": "code",
   "execution_count": 18,
   "metadata": {
    "collapsed": false
   },
   "outputs": [],
   "source": [
    "filename = 'wasp47.csv'\n",
    "\n",
    "time, flux = np.genfromtxt(filename, unpack = True, delimiter=',')\n",
    "\n",
    "mask = np.isfinite(flux) * np.isfinite(time)\n",
    "time1 = flux[mask] # !!!! I mixed up flux and time in my wasp47.csv file\n",
    "flux1 = time[mask] # !!!!\n",
    "\n",
    "time = time1\n",
    "flux = flux1\n",
    "\n",
    "time, flux = yash_bls.outlierRemoval(time, flux)\n",
    "flux = yash_bls.medianDetrend(flux, 26)\n",
    "\n",
    "# Main transit search\n",
    "minPeriod = 0.5     # Limitations of BLS Fortran code\n",
    "maxPeriod = (time[-1] - time[0]) / 3.\n",
    "\n",
    "outs = doSearch(time, flux, minPeriod, maxPeriod, )"
   ]
  },
  {
   "cell_type": "code",
   "execution_count": 12,
   "metadata": {
    "collapsed": false
   },
   "outputs": [
    {
     "data": {
      "text/plain": [
       "(3386,)"
      ]
     },
     "execution_count": 12,
     "metadata": {},
     "output_type": "execute_result"
    }
   ],
   "source": []
  },
  {
   "cell_type": "code",
   "execution_count": null,
   "metadata": {
    "collapsed": true
   },
   "outputs": [],
   "source": []
  }
 ],
 "metadata": {
  "kernelspec": {
   "display_name": "Python 2",
   "language": "python",
   "name": "python2"
  },
  "language_info": {
   "codemirror_mode": {
    "name": "ipython",
    "version": 2
   },
   "file_extension": ".py",
   "mimetype": "text/x-python",
   "name": "python",
   "nbconvert_exporter": "python",
   "pygments_lexer": "ipython2",
   "version": "2.7.9"
  }
 },
 "nbformat": 4,
 "nbformat_minor": 0
}
